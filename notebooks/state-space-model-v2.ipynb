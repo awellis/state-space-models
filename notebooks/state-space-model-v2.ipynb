{
 "cells": [
  {
   "cell_type": "markdown",
   "metadata": {
    "toc": "true"
   },
   "source": [
    "# Table of Contents\n",
    " <p><div class=\"lev2 toc-item\"><a href=\"#Generative-model\" data-toc-modified-id=\"Generative-model-01\"><span class=\"toc-item-num\">0.1&nbsp;&nbsp;</span>Generative model</a></div><div class=\"lev2 toc-item\"><a href=\"#Nuts\" data-toc-modified-id=\"Nuts-02\"><span class=\"toc-item-num\">0.2&nbsp;&nbsp;</span>Nuts</a></div><div class=\"lev2 toc-item\"><a href=\"#Variational-inference\" data-toc-modified-id=\"Variational-inference-03\"><span class=\"toc-item-num\">0.3&nbsp;&nbsp;</span>Variational inference</a></div>"
   ]
  },
  {
   "cell_type": "code",
   "execution_count": null,
   "metadata": {
    "collapsed": false,
    "deletable": true,
    "editable": true
   },
   "outputs": [],
   "source": [
    "%matplotlib inline\n",
    "import matplotlib.pyplot as plt\n",
    "import seaborn as sns\n",
    "# sns.set(rc={\"figure.figsize\": (16, 12)})\n",
    "sns.set_style('white')\n",
    "sns.set_style('ticks')\n",
    "sns.set_context(\"paper\")\n",
    "\n",
    "%config InlineBackend.figure_format = 'retina'\n",
    "# %qtconsole --colors=linux\n",
    "\n",
    "import numpy as np\n",
    "import pymc3 as pm\n",
    "import theano.tensor as tt \n",
    "import scipy\n",
    "from scipy import stats\n",
    "\n",
    "# Convenience functions to time execution (and display start time)\n",
    "class timeit():\n",
    "    from datetime import datetime\n",
    "    def __enter__(self):\n",
    "        self.tic = self.datetime.now()\n",
    "        print('Start: {}').format(self.tic)\n",
    "    def __exit__(self, *args, **kwargs):\n",
    "        print('Runtime: {}'.format(self.datetime.now() - self.tic))\n",
    "\n",
    "# from pymc3.distributions.timeseries import EulerMaruyama"
   ]
  },
  {
   "cell_type": "code",
   "execution_count": null,
   "metadata": {
    "collapsed": false,
    "deletable": true,
    "editable": true
   },
   "outputs": [],
   "source": [
    "# %qtconsole"
   ]
  },
  {
   "cell_type": "code",
   "execution_count": null,
   "metadata": {
    "collapsed": false,
    "deletable": true,
    "editable": true
   },
   "outputs": [],
   "source": [
    "T = 2\n",
    "dt = 0.1\n",
    "nsteps = T/dt\n",
    "\n",
    "amplitude = 20\n",
    "phi  = 0.0\n",
    "f = 0.5\n",
    "\n",
    "time = np.arange(0, T+dt, dt)\n",
    "\n",
    "def true_control(t, amplitude, phi=0): \n",
    "    return(amplitude * np.sin(2 * np.pi * f * t + phi))\n",
    "\n",
    "alpha = true_control(time, amplitude=20, phi=0.0)\n",
    "\n",
    "nsteps = int(T/dt)\n",
    "\n",
    "x = np.zeros((nsteps+1, 2))\n",
    "y = np.zeros((nsteps+1, 1))\n",
    "\n",
    "mvnorm = stats.multivariate_normal\n",
    "covar = np.diag([0.2, 0.1])\n",
    "sigma_y = 1.7\n",
    "\n",
    "x[0] = np.zeros(2)\n",
    "\n",
    "A = np.array([[1, dt], [0, 1]])\n",
    "B = np.array([0.5 * dt**2, dt])\n",
    "\n",
    "# x[,0] is the position\n",
    "# x[, 1] is the velcocity\n",
    "\n",
    "# This is written without matrix notation\n",
    "# for t in range(1, nsteps):\n",
    "#     x[t, 0] = x[t-1, 0] + Δt*x[t-1, 1] + 0.5 * Δt**2 * α[t-1]\n",
    "#     x[t, 1] = x[t-1, 1] + Δt * α[t-1]\n",
    "\n",
    "# This is in matrix notation\n",
    "# x[t] = np.dot(true_A, x[t-1].T) + np.dot(true_B, α[t-1])\n",
    "# where α[t-1] is the (\"known\") control input\n",
    "    \n",
    "\n",
    "# Generated data\n",
    "for t in range(1, nsteps+1):\n",
    "#     x_t = Ax[t-1] + Bu[t-1]\n",
    "    x[t] = mvnorm.rvs(mean=np.dot(A, x[t-1].T) + np.dot(B, true_control(dt*(t-1), amplitude, phi=0)),\n",
    "                      cov=covar, size=1)\n",
    "#     x[t] = mvnorm.rvs(mean=np.dot(true_A, x[t-1].T) + np.dot(true_B, α[t-1]), cov=Σ, size=1)\n",
    "#     y is the noisy observation of x[, 1], i.e. velocity\n",
    "    y[t] = stats.norm.rvs(loc=x[t, 1], scale=sigma_y, size=1)\n",
    "    \n",
    "\n",
    "#print(f\"True A: \\n{true_A}\")\n",
    "#print(f\"True B: \\n{true_B}\")\n",
    "\n",
    "\n",
    "plt.plot(time, alpha, 'k--', linewidth=6, alpha=0.25, label='alpha')\n",
    "plt.plot(time, x, linewidth=6, label='pos')\n",
    "\n",
    "# [plt.plot(time, var) for var in [α, x]]\n",
    "\n",
    "plt.plot(time, y, '.', markersize=20, color='black', alpha=0.6, label='obs')\n",
    "sns.despine(offset=10, trim=True)\n",
    "plt.legend(loc='best')"
   ]
  },
  {
   "cell_type": "code",
   "execution_count": null,
   "metadata": {
    "collapsed": false,
    "deletable": true,
    "editable": true
   },
   "outputs": [],
   "source": [
    "# Better prior for SD? Inverse Gamma seems to work better than Half-Cauchy.\n",
    "\n",
    "sd_prior = scipy.stats.invgamma.rvs(a=6, loc=0.4, scale=3, size=1000)\n",
    "sns.distplot(sd_prior, kde=True);\n",
    "\n",
    "# fig, ax = plt.subplots(1, 1)\n",
    "# x = np.linspace(scipy.stats.halfcauchy.ppf(0.01), scipy.stats.halfcauchy.ppf(0.99), 100)\n",
    "# ax.plot(x, scipy.stats.halfcauchy.pdf(x), 'r-', lw=5, alpha=0.6, label='halfcauchy pdf')"
   ]
  },
  {
   "cell_type": "code",
   "execution_count": null,
   "metadata": {
    "deletable": true,
    "editable": true
   },
   "outputs": [],
   "source": [
    "d_prior = scipy.stats.beta.rvs(a=9, b = 3, size=1000)\n",
    "sns.distplot(d_prior, kde=False);"
   ]
  },
  {
   "cell_type": "markdown",
   "metadata": {
    "deletable": true,
    "editable": true
   },
   "source": [
    "## Generative model"
   ]
  },
  {
   "cell_type": "code",
   "execution_count": null,
   "metadata": {
    "collapsed": false,
    "deletable": true,
    "editable": true
   },
   "outputs": [],
   "source": [
    "nsteps = len(y)\n",
    "\n",
    "from theano.compile.ops import as_op\n",
    "\n",
    "# @as_op(itypes=[tt.lscalar, tt.dscalar, tt.dscalar], otypes=[tt.dscalar])\n",
    "def control(t, direction, amplitude, phi=0): \n",
    "    return(direction*amplitude * tt.sin(2 * np.pi * 0.5 * t + phi))\n",
    "    \n",
    "basic_model=pm.Model()\n",
    "\n",
    "with basic_model:\n",
    "    pos = np.empty(nsteps, dtype='object')\n",
    "    vel = np.empty(nsteps, dtype='object')\n",
    "    \n",
    "    pos[0]=pm.Normal('pos0', mu=0, sd=2)\n",
    "    vel[0]=pm.Normal('vel0', mu=0, sd=2)\n",
    "    \n",
    "    p_dir = 2 * pm.Beta(\"p_dir\", alpha=9, beta=3) - 1\n",
    "    direction = pm.Bernoulli(\"D\", p=p_dir)\n",
    "    \n",
    "    sd_obs = pm.InverseGamma(\"sd_obs\", alpha=1, beta=2)\n",
    "    sd_pos = pm.InverseGamma(\"sd_pos\", alpha=6, beta=3)\n",
    "    sd_vel = pm.InverseGamma(\"sd_vel\", alpha=6, beta=3)\n",
    "\n",
    "    \n",
    "    amplitude = 20\n",
    "    \n",
    "    for t in range(1, nsteps):\n",
    "        u = control(t-1, direction, amplitude, 0.0)\n",
    "        \n",
    "        pos[t] = pm.Normal('pos'+str(t), mu=pos[t-1] + dt*vel[t-1] + 0.5*dt**2 * u, sd=sd_pos)\n",
    "        vel[t] = pm.Normal('vel'+str(t), mu=vel[t-1] + dt*u, sd=sd_vel)\n",
    "        \n",
    "        y_obs=pm.Normal(\"y_obs\"+str(t), mu=vel[t], observed=y[t], sd=sd_obs)\n"
   ]
  },
  {
   "cell_type": "markdown",
   "metadata": {
    "deletable": true,
    "editable": true
   },
   "source": [
    "## Nuts"
   ]
  },
  {
   "cell_type": "code",
   "execution_count": null,
   "metadata": {
    "collapsed": false,
    "deletable": true,
    "editable": true
   },
   "outputs": [],
   "source": [
    "with timeit():\n",
    "    with basic_model:\n",
    "        trace = pm.sample(2000, njobs = 4)"
   ]
  },
  {
   "cell_type": "code",
   "execution_count": null,
   "metadata": {
    "collapsed": false,
    "deletable": true,
    "editable": true,
    "run_control": {
     "marked": false
    }
   },
   "outputs": [],
   "source": [
    "xr=range(nsteps)\n",
    "\n",
    "# Unpack all the trace for plotting\n",
    "pos_all=[[atrace['pos'+str(t)] for atrace in trace[1000:]] for t in xr]\n",
    "vel_all=[[atrace['vel'+str(t)] for atrace in trace[1000:]] for t in xr]\n",
    "sd_obs_all=[atrace['sd_obs'] for atrace in trace[1000:]]\n",
    "sd_pos_all=[atrace['sd_pos'] for atrace in trace[1000:]]\n",
    "sd_vel_all=[atrace['sd_vel'] for atrace in trace[1000:]]\n",
    "\n",
    "plt.figure( figsize=(15,5))\n",
    "plt.subplot(1,3,1)\n",
    "plt.violinplot(pos_all, positions=xr, widths=1.0)\n",
    "plt.plot(xr, x[:,0], 'o-')\n",
    "\n",
    "plt.subplot(1,3,2)\n",
    "plt.violinplot(vel_all, positions=xr, widths=1.0)\n",
    "plt.plot( x[:,1], 'o-')\n",
    "plt.plot( y, 'ko')\n",
    "\n",
    "plt.subplot(1,3,3)\n",
    "plt.violinplot( [sd_obs_all,sd_pos_all, sd_vel_all] );\n",
    "plt.xticks([1,2,3], ['Observation', 'Position', 'Velocity'],size=16 );\n",
    "\n",
    "plt.savefig('inferred.pdf', bbox_inches='tight')"
   ]
  },
  {
   "cell_type": "code",
   "execution_count": null,
   "metadata": {
    "collapsed": false,
    "deletable": true,
    "editable": true
   },
   "outputs": [],
   "source": [
    "pm.forestplot(trace, varnames = ['sd_vel', 'sd_pos', 'sd_obs'])\n",
    "pm.plot_posterior(trace, varnames = ['sd_vel', 'sd_pos', 'sd_obs', 'D', 'p_dir'])\n",
    "pm.traceplot(trace, varnames = ['sd_vel', 'sd_pos', 'sd_obs'])\n",
    "pm.traceplot(trace, varnames = ['p_dir'])"
   ]
  },
  {
   "cell_type": "code",
   "execution_count": null,
   "metadata": {
    "deletable": true,
    "editable": true
   },
   "outputs": [],
   "source": [
    "trace[1000:]['D']"
   ]
  },
  {
   "cell_type": "markdown",
   "metadata": {
    "deletable": true,
    "editable": true
   },
   "source": [
    "## Variational inference"
   ]
  },
  {
   "cell_type": "code",
   "execution_count": null,
   "metadata": {
    "collapsed": false,
    "deletable": true,
    "editable": true
   },
   "outputs": [],
   "source": [
    "# variational inference:\n",
    "with timeit():\n",
    "    with basic_model:\n",
    "        v_params = pm.variational.advi(n=100000)\n",
    "        means, sd, elbos = v_params\n",
    "        samples = pm.sample_vp(v_params, draws=2000)"
   ]
  },
  {
   "cell_type": "code",
   "execution_count": null,
   "metadata": {
<<<<<<< HEAD
    "deletable": true,
    "editable": true
=======
    "collapsed": false
>>>>>>> origin/master
   },
   "outputs": [],
   "source": [
    "sns.distplot(samples['A'], color='red')"
   ]
  },
  {
   "cell_type": "code",
   "execution_count": null,
   "metadata": {
    "collapsed": false,
    "deletable": true,
    "editable": true
   },
   "outputs": [],
   "source": [
    "varnames = ['sd_obs', 'sd_pos', 'sd_vel']\n",
    "[sns.distplot(samples[var]) for var in varnames]"
   ]
  },
  {
   "cell_type": "code",
   "execution_count": null,
   "metadata": {
    "collapsed": false,
    "deletable": true,
    "editable": true
   },
   "outputs": [],
   "source": [
    "sns.distplot(samples['sd_vel'], color='blue', label=\"ADVI\")\n",
    "sns.distplot(trace['sd_vel'], color='red')"
   ]
  },
  {
   "cell_type": "code",
   "execution_count": null,
   "metadata": {
    "collapsed": false,
    "deletable": true,
    "editable": true
   },
   "outputs": [],
   "source": [
    "sns.distplot(samples['sd_obs'], color='blue', label=\"ADVI\")\n",
    "sns.distplot(trace['sd_obs'], color='red')"
   ]
  },
  {
   "cell_type": "code",
   "execution_count": null,
   "metadata": {
    "code_folding": [],
    "collapsed": false,
    "deletable": true,
    "editable": true,
    "hide_input": false,
    "run_control": {
     "marked": false
    }
   },
   "outputs": [],
   "source": [
    "# varnames = means.keys()\n",
    "# fig, axs = plt.subplots(ncols=len(varnames), figsize=(15, 5))\n",
    "# for var, ax in zip(varnames, axs):\n",
    "#     mu_arr = means[var]\n",
    "#     sigma_arr = sds[var]\n",
    "#     ax.set_title(var)\n",
    "#     for i, (mu, sigma) in enumerate(zip(mu_arr.flatten(), sigma_arr.flatten())):\n",
    "#         sd3 = (-4*sigma + mu, 4*sigma + mu)\n",
    "#         x = np.linspace(sd3[0], sd3[1], 300)\n",
    "#         y = stats.norm(mu, sigma).pdf(x)\n",
    "#         ax.plot(x, y)\n",
    "        \n",
    "# fig.tight_layout()"
   ]
  },
  {
   "cell_type": "markdown",
   "metadata": {
    "deletable": true,
    "editable": true,
    "toc": "true"
   },
   "source": [
    "# Table of Contents\n",
    " <p><div class=\"lev2 toc-item\"><a href=\"#Generative-model\" data-toc-modified-id=\"Generative-model-01\"><span class=\"toc-item-num\">0.1&nbsp;&nbsp;</span>Generative model</a></div><div class=\"lev2 toc-item\"><a href=\"#Nuts\" data-toc-modified-id=\"Nuts-02\"><span class=\"toc-item-num\">0.2&nbsp;&nbsp;</span>Nuts</a></div><div class=\"lev2 toc-item\"><a href=\"#Variational-inference\" data-toc-modified-id=\"Variational-inference-03\"><span class=\"toc-item-num\">0.3&nbsp;&nbsp;</span>Variational inference</a></div>"
   ]
  }
 ],
 "metadata": {
  "gist": {
   "data": {
    "description": "state-space-model-v1.ipynb",
    "public": false
   },
   "id": ""
  },
  "kernelspec": {
   "display_name": "Python 2",
   "language": "python",
   "name": "python2"
  },
  "language_info": {
   "codemirror_mode": {
    "name": "ipython",
    "version": 2
   },
   "file_extension": ".py",
   "mimetype": "text/x-python",
   "name": "python",
   "nbconvert_exporter": "python",
   "pygments_lexer": "ipython2",
   "version": "2.7.12"
  },
  "toc": {
   "colors": {
    "hover_highlight": "#DAA520",
    "running_highlight": "#FF0000",
    "selected_highlight": "#FFD700"
   },
   "moveMenuLeft": true,
   "nav_menu": {
    "height": "86px",
    "width": "302px"
   },
   "navigate_menu": true,
   "number_sections": false,
   "sideBar": true,
   "threshold": 4,
   "toc_cell": true,
   "toc_position": {
    "height": "845px",
    "left": "0px",
    "right": "auto",
    "top": "106px",
    "width": "220px"
   },
   "toc_section_display": "block",
   "toc_window_display": true,
   "widenNotebook": false
  }
 },
 "nbformat": 4,
 "nbformat_minor": 2
}
